{
 "cells": [
  {
   "cell_type": "markdown",
   "metadata": {},
   "source": [
    "# Memahami Bisnis "
   ]
  },
  {
   "cell_type": "markdown",
   "metadata": {},
   "source": [
    "## Pengertian\n",
    "Memahami bisnis adalah tahap pertama dalam proses sains data yang bertujuan untuk mengenali masalah, kebutuhan, dan tujuan yang ingin dicapai oleh organisasi. Tahap ini penting karena memastikan analisis data yang dilakukan relevan dengan situasi nyata. Jika pemahaman bisnis kurang tepat, hasil analisis data bisa tidak bermanfaat bagi pengambilan keputusan."
   ]
  },
  {
   "cell_type": "markdown",
   "metadata": {},
   "source": [
    "## Tujuan \n",
    "* Menentukan masalah bisnis yang sebenarnya.\n",
    "\n",
    "* Memahami kondisi dan situasi organisasi saat ini.\n",
    "\n",
    "* Menerjemahkan tujuan bisnis ke dalam tujuan analisis data.\n",
    "\n",
    "* Menyusun rencana awal proyek sains data."
   ]
  },
  {
   "cell_type": "markdown",
   "metadata": {},
   "source": [
    "## Langkah-langkah \n",
    "1. Menentukan tujuan bisnis → Mengidentifikasi apa yang ingin dicapai oleh organisasi, misalnya meningkatkan penjualan, mengurangi biaya, atau meningkatkan kepuasan pelanggan.\n",
    "\n",
    "2. Menilai situasi → Menganalisis kondisi saat ini, sumber daya, keterbatasan, dan risiko.\n",
    "\n",
    "3. Menentukan tujuan data mining → Menerjemahkan tujuan bisnis ke dalam bentuk analisis data, misalnya prediksi churn pelanggan atau klasifikasi transaksi.\n",
    "\n",
    "4. Menyusun rencana proyek → Membuat rencana awal, strategi, timeline, dan metrik keberhasilan."
   ]
  },
  {
   "cell_type": "markdown",
   "metadata": {},
   "source": [
    "## Contoh Kasus\n",
    "Sebuah e-commerce ingin meningkatkan penjualan produk. Dari sisi bisnis, tujuan utama adalah peningkatan penjualan. Situasi yang ada adalah data transaksi tersedia, namun belum dimanfaatkan dengan baik. Tujuan data mining yang dirumuskan adalah melakukan segmentasi pelanggan berdasarkan perilaku belanja. Rencana proyek yang disusun adalah analisis clustering pelanggan, lalu memberikan rekomendasi produk sesuai segmen tersebut."
   ]
  },
  {
   "cell_type": "markdown",
   "metadata": {},
   "source": [
    "## Kesimpulan\n",
    "Tahap memahami bisnis adalah pondasi dari proyek sains data. Dengan pemahaman bisnis yang baik, analisis data akan lebih terarah, efisien, dan menghasilkan solusi yang benar-benar bermanfaat bagi organisasi."
   ]
  }
 ],
 "metadata": {
  "kernelspec": {
   "display_name": "Python 3",
   "language": "python",
   "name": "python3"
  },
  "language_info": {
   "codemirror_mode": {
    "name": "ipython",
    "version": 3
   },
   "file_extension": ".py",
   "mimetype": "text/x-python",
   "name": "python",
   "nbconvert_exporter": "python",
   "pygments_lexer": "ipython3",
   "version": "3.8.0"
  },
  "widgets": {
   "application/vnd.jupyter.widget-state+json": {
    "state": {},
    "version_major": 2,
    "version_minor": 0
   }
  }
 },
 "nbformat": 4,
 "nbformat_minor": 4
}
