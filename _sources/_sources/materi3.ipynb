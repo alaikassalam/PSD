{
 "cells": [
  {
   "cell_type": "markdown",
   "id": "a9b88c69",
   "metadata": {},
   "source": [
    "# Explorasi Data"
   ]
  },
  {
   "cell_type": "markdown",
   "id": "e9996a3b",
   "metadata": {},
   "source": [
    "## Pengertian\n",
    "Explorasi Data adalah tahap dalam proyek sains data yang berfokus pada analisis mendalam terhadap dataset untuk menemukan pola, tren, hubungan antar variabel, dan anomali. Tahap ini sering disebut juga sebagai Exploratory Data Analysis (EDA), yaitu proses untuk “menceritakan kisah” yang ada di balik data melalui analisis statistik dan visualisasi."
   ]
  },
  {
   "cell_type": "markdown",
   "id": "8a8ceeee",
   "metadata": {},
   "source": [
    "## Tujuan\n",
    "* Memahami distribusi data dan karakteristik variabel.\n",
    "\n",
    "* Mengidentifikasi pola, tren, dan hubungan antar variabel.\n",
    "\n",
    "* Menemukan outlier atau nilai ekstrem yang perlu ditangani.\n",
    "\n",
    "* Menguji hipotesis awal yang berkaitan dengan tujuan bisnis.\n",
    "\n",
    "* Memberikan insight awal yang bisa menjadi dasar pemodelan."
   ]
  },
  {
   "cell_type": "markdown",
   "id": "eebe40cc",
   "metadata": {},
   "source": [
    "## Langkah-Langkah\n",
    "1. Analisis Statistik Deskriptif  \n",
    "Menghitung ukuran pemusatan (mean, median, modus) dan ukuran penyebaran (range, varians, standar deviasi).\n",
    "\n",
    "2. Visualisasi Distribusi Data  \n",
    "Menggunakan histogram, boxplot, atau density plot untuk melihat distribusi variabel numerik.\n",
    "\n",
    "3. Analisis Korelasi  \n",
    "Menggunakan scatter plot, heatmap, atau matriks korelasi untuk melihat hubungan antar variabel.\n",
    "\n",
    "4. Identifikasi Outlier & Anomali  \n",
    "Mendeteksi nilai yang tidak wajar yang bisa memengaruhi analisis.\n",
    "\n",
    "5. Segmentasi atau Clustering Awal  \n",
    "Jika relevan, dilakukan segmentasi untuk mengenali kelompok dalam data."
   ]
  },
  {
   "cell_type": "markdown",
   "id": "f354761c",
   "metadata": {},
   "source": [
    "## Contoh Kasus\n",
    "Pada proyek e-commerce, setelah data transaksi dikumpulkan, dilakukan analisis eksplorasi. Dari histogram terlihat bahwa mayoritas pelanggan melakukan pembelian di bawah Rp 500.000, tetapi ada beberapa transaksi dengan nilai lebih dari Rp 10.000.000 yang terindikasi sebagai outlier. Analisis korelasi menunjukkan bahwa jumlah produk yang dibeli berkorelasi positif dengan total belanja. Visualisasi kategori produk menunjukkan bahwa “fashion” dan “elektronik” adalah dua kategori yang paling banyak mendominasi penjualan. Insight ini dapat membantu tim bisnis menentukan fokus strategi promosi."
   ]
  },
  {
   "cell_type": "markdown",
   "id": "589ff2b1",
   "metadata": {},
   "source": [
    "## Kesimpulan\n",
    "Explorasi Data adalah tahap penting untuk menggali informasi dari dataset sebelum masuk ke proses pemodelan. Melalui analisis statistik dan visualisasi, kita dapat memahami pola, tren, serta anomali dalam data. Hasil dari tahap ini memberikan dasar yang kuat untuk menentukan teknik analisis atau algoritma machine learning yang sesuai pada tahap berikutnya."
   ]
  }
 ],
 "metadata": {
  "language_info": {
   "name": "python"
  }
 },
 "nbformat": 4,
 "nbformat_minor": 5
}
