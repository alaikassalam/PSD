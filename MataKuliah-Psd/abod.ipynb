{
 "cells": [
  {
   "cell_type": "markdown",
   "id": "12dc330c",
   "metadata": {},
   "source": [
    "# Deteksi Outlier ABOD "
   ]
  },
  {
   "cell_type": "markdown",
   "id": "5ba812e5",
   "metadata": {},
   "source": [
    "## Angle-Based Outlier Detection (ABOD)  \n",
    "Angle-Based Outlier Detection (ABOD) adalah pendekatan geometris untuk mengidentifikasi outlier dalam data berdimensi tinggi dengan menganalisis varians sudut yang dibentuk oleh vektor-vektor dari suatu titik ke tetangganya.\n",
    "\n",
    "Dalam satu himpunan data, titik-titik normal cenderung memiliki sudut-sudut yang serupa antara pasangan vektor yang menghubungkannya ke titik lain. Sebaliknya, outlier sering kali terletak di tepi dan membentuk rentang sudut yang sangat luas terhadap tetangganya — artinya, varians sudut mereka tinggi."
   ]
  },
  {
   "cell_type": "markdown",
   "id": "5cb8c073",
   "metadata": {},
   "source": [
    "## Algoritma Angle-Based Outlier Detection (ABOD)\n",
    "\n",
    "1. Untuk setiap titik \\( p_i \\) dalam dataset:\n",
    "   - Hitung semua vektor pasangan dari \\( p_i \\) ke titik lainnya:  \n",
    "     $$\n",
    "     \\vec{v}_{ij} = p_j - p_i\n",
    "     $$\n",
    "   - Untuk setiap pasangan vektor seperti $((\\vec{v}_{ij}, \\vec{v}_{ik})$ , hitung sudut di antara keduanya menggunakan rumus hasil kali titik:  \n",
    "     $$\n",
    "     \\cos(\\theta_{ijk}) = \\frac{\\vec{v}_{ij} \\cdot \\vec{v}_{ik}}{\\|\\vec{v}_{ij}\\| \\cdot \\|\\vec{v}_{ik}\\|}\n",
    "     $$\n",
    "   - Hitung **varians** dari semua sudut tersebut untuk titik \\( p_i \\).\n",
    "\n",
    "\n",
    "2. Skor outlier untuk titik $ p_i $ adalah varians sudut:  \n",
    "   $$\n",
    "   ABOD(p_i) = \\mathrm{Var}(\\theta_{ijk}) \\quad \\text{untuk semua } j, k \\neq i\n",
    "   $$\n",
    "\n",
    "\n",
    "3. Titik-titik dengan **varians sudut tinggi** ditandai sebagai **outlier**.\n"
   ]
  },
  {
   "cell_type": "markdown",
   "id": "390f0a50",
   "metadata": {},
   "source": [
    "## Implementasi\n",
    "### Import library yang dibutuhkan "
   ]
  },
  {
   "cell_type": "code",
   "execution_count": 7,
   "id": "6151905d",
   "metadata": {},
   "outputs": [],
   "source": [
    "import os\n",
    "import pandas as pd\n",
    "from dotenv import load_dotenv\n",
    "from sqlalchemy import create_engine"
   ]
  },
  {
   "cell_type": "markdown",
   "id": "afc452bd",
   "metadata": {},
   "source": [
    "### Load dataset"
   ]
  },
  {
   "cell_type": "code",
   "execution_count": 8,
   "id": "01f3d39d",
   "metadata": {},
   "outputs": [],
   "source": [
    "load_dotenv()\n",
    "\n",
    "# Ambil variabel dari .env\n",
    "user_postgres = os.getenv(\"USER_POSTGRES\")\n",
    "password_postgres = os.getenv(\"PASS_POSTGRES\")\n",
    "host_postgres = os.getenv(\"HOST_POSTGRES\")\n",
    "port_postgres = os.getenv(\"PORT_POSTGRES\")\n",
    "db_postgres = os.getenv(\"DB_POSTGRES\")\n",
    "\n",
    "user_mysql = os.getenv(\"USER_MYSQL\")\n",
    "password_mysql = os.getenv(\"PASS_MYSQL\")\n",
    "host_mysql = os.getenv(\"HOST_MYSQL\")\n",
    "port_mysql = os.getenv(\"PORT_MYSQL\")\n",
    "db_mysql = os.getenv(\"DB_MYSQL\")\n",
    "\n",
    "\n",
    "postgres_conn = f\"postgresql+psycopg2://{user_postgres}:{password_postgres}@{host_postgres}:{port_postgres}/{db_postgres}\"\n",
    "\n",
    "mysql_conn = f\"mysql+pymysql://{user_mysql}:{password_mysql}@{host_mysql}:{port_mysql}/{db_mysql}\"\n",
    "\n",
    "postgres_engine = create_engine(postgres_conn)\n",
    "postgres_engine = create_engine(mysql_conn)"
   ]
  },
  {
   "cell_type": "markdown",
   "id": "363d9ba3",
   "metadata": {},
   "source": [
    "### Membuat koneksi (engine) dan mengambil dari database"
   ]
  },
  {
   "cell_type": "code",
   "execution_count": 9,
   "id": "dca4ddb2",
   "metadata": {},
   "outputs": [],
   "source": [
    "# Engine untuk PostgreSQL\n",
    "postgres_engine = create_engine(postgres_conn)\n",
    "\n",
    "# Engine untuk MySQL\n",
    "mysql_engine = create_engine(mysql_conn)\n",
    "\n",
    "\n",
    "# Ambil data dari MySQL\n",
    "mysql_df_iris = pd.read_sql(\"SELECT * FROM iris_full\", mysql_engine)\n",
    "\n",
    "# Ambil data dari PostgreSQL\n",
    "postgres_df_iris = pd.read_sql(\"SELECT * FROM iris_full\", postgres_engine)\n"
   ]
  },
  {
   "cell_type": "markdown",
   "id": "41ea8cc3",
   "metadata": {},
   "source": [
    "### Mengabungkan 2 database"
   ]
  },
  {
   "cell_type": "code",
   "execution_count": 10,
   "id": "22639911",
   "metadata": {},
   "outputs": [
    {
     "name": "stdout",
     "output_type": "stream",
     "text": [
      "     id  petal length_x  petal width_x Class_x sepal length_x sepal width_x  \\\n",
      "0    36             1.2            0.2    None           None          None   \n",
      "1    36             1.2            0.2    None           None          None   \n",
      "2    37             1.3            0.2    None           None          None   \n",
      "3    37             1.3            0.2    None           None          None   \n",
      "4    38             1.5            0.1    None           None          None   \n",
      "..   ..             ...            ...     ...            ...           ...   \n",
      "295  33             NaN            NaN     NaN            NaN           NaN   \n",
      "296  34             NaN            NaN     NaN            NaN           NaN   \n",
      "297  34             NaN            NaN     NaN            NaN           NaN   \n",
      "298  35             NaN            NaN     NaN            NaN           NaN   \n",
      "299  35             NaN            NaN     NaN            NaN           NaN   \n",
      "\n",
      "     sepal length_y  sepal width_y      Class_y  petal length_y  petal width_y  \n",
      "0               5.0            3.2         None             NaN            NaN  \n",
      "1               5.0            3.2  Iris-setosa             1.2            0.2  \n",
      "2               5.5            3.5         None             NaN            NaN  \n",
      "3               5.5            3.5  Iris-setosa             1.3            0.2  \n",
      "4               4.9            3.1         None             NaN            NaN  \n",
      "..              ...            ...          ...             ...            ...  \n",
      "295             5.2            4.1  Iris-setosa             1.5            0.1  \n",
      "296             5.5            4.2         None             NaN            NaN  \n",
      "297             5.5            4.2  Iris-setosa             1.4            0.2  \n",
      "298             4.9            3.1         None             NaN            NaN  \n",
      "299             4.9            3.1  Iris-setosa             1.5            0.1  \n",
      "\n",
      "[300 rows x 11 columns]\n"
     ]
    }
   ],
   "source": [
    "\n",
    "merge_df = pd.merge(mysql_df_iris, postgres_df_iris, left_on=\"id\", right_on='id', how='outer')\n",
    "print(merge_df)"
   ]
  },
  {
   "cell_type": "markdown",
   "id": "fe508b64",
   "metadata": {},
   "source": [
    "### Salinan data\n",
    "Buat salinan data dari hasil penggabungan "
   ]
  },
  {
   "cell_type": "code",
   "execution_count": 11,
   "id": "78337c8c",
   "metadata": {},
   "outputs": [],
   "source": [
    "data_train = merge_df.copy()"
   ]
  },
  {
   "cell_type": "markdown",
   "id": "f07dec4e",
   "metadata": {},
   "source": [
    "### Model ABOD"
   ]
  },
  {
   "cell_type": "code",
   "execution_count": 24,
   "id": "88ecc84b",
   "metadata": {},
   "outputs": [
    {
     "name": "stdout",
     "output_type": "stream",
     "text": [
      "Jumlah baris: 300\n",
      "Jumlah kolom: 11\n",
      "Kolom dataset: ['id', 'petal length_x', 'petal width_x', 'Class_x', 'sepal length_x', 'sepal width_x', 'sepal length_y', 'sepal width_y', 'Class_y', 'petal length_y', 'petal width_y']\n",
      "   id  petal length_x  petal width_x Class_x sepal length_x sepal width_x  \\\n",
      "0  36             1.2            0.2    None           None          None   \n",
      "1  36             1.2            0.2    None           None          None   \n",
      "2  37             1.3            0.2    None           None          None   \n",
      "3  37             1.3            0.2    None           None          None   \n",
      "4  38             1.5            0.1    None           None          None   \n",
      "\n",
      "   sepal length_y  sepal width_y      Class_y  petal length_y  petal width_y  \n",
      "0             5.0            3.2         None             NaN            NaN  \n",
      "1             5.0            3.2  Iris-setosa             1.2            0.2  \n",
      "2             5.5            3.5         None             NaN            NaN  \n",
      "3             5.5            3.5  Iris-setosa             1.3            0.2  \n",
      "4             4.9            3.1         None             NaN            NaN  \n",
      "\n",
      "Kolom numerik yang dipakai untuk anomaly detection: ['id', 'petal length_x', 'petal width_x', 'sepal length_y', 'sepal width_y', 'petal length_y', 'petal width_y']\n"
     ]
    },
    {
     "data": {
      "text/html": [
       "<style type=\"text/css\">\n",
       "#T_0f85c_row5_col1 {\n",
       "  background-color: lightgreen;\n",
       "}\n",
       "</style>\n",
       "<table id=\"T_0f85c\">\n",
       "  <thead>\n",
       "    <tr>\n",
       "      <th class=\"blank level0\" >&nbsp;</th>\n",
       "      <th id=\"T_0f85c_level0_col0\" class=\"col_heading level0 col0\" >Description</th>\n",
       "      <th id=\"T_0f85c_level0_col1\" class=\"col_heading level0 col1\" >Value</th>\n",
       "    </tr>\n",
       "  </thead>\n",
       "  <tbody>\n",
       "    <tr>\n",
       "      <th id=\"T_0f85c_level0_row0\" class=\"row_heading level0 row0\" >0</th>\n",
       "      <td id=\"T_0f85c_row0_col0\" class=\"data row0 col0\" >Session id</td>\n",
       "      <td id=\"T_0f85c_row0_col1\" class=\"data row0 col1\" >42</td>\n",
       "    </tr>\n",
       "    <tr>\n",
       "      <th id=\"T_0f85c_level0_row1\" class=\"row_heading level0 row1\" >1</th>\n",
       "      <td id=\"T_0f85c_row1_col0\" class=\"data row1 col0\" >Original data shape</td>\n",
       "      <td id=\"T_0f85c_row1_col1\" class=\"data row1 col1\" >(300, 7)</td>\n",
       "    </tr>\n",
       "    <tr>\n",
       "      <th id=\"T_0f85c_level0_row2\" class=\"row_heading level0 row2\" >2</th>\n",
       "      <td id=\"T_0f85c_row2_col0\" class=\"data row2 col0\" >Transformed data shape</td>\n",
       "      <td id=\"T_0f85c_row2_col1\" class=\"data row2 col1\" >(300, 7)</td>\n",
       "    </tr>\n",
       "    <tr>\n",
       "      <th id=\"T_0f85c_level0_row3\" class=\"row_heading level0 row3\" >3</th>\n",
       "      <td id=\"T_0f85c_row3_col0\" class=\"data row3 col0\" >Numeric features</td>\n",
       "      <td id=\"T_0f85c_row3_col1\" class=\"data row3 col1\" >7</td>\n",
       "    </tr>\n",
       "    <tr>\n",
       "      <th id=\"T_0f85c_level0_row4\" class=\"row_heading level0 row4\" >4</th>\n",
       "      <td id=\"T_0f85c_row4_col0\" class=\"data row4 col0\" >Rows with missing values</td>\n",
       "      <td id=\"T_0f85c_row4_col1\" class=\"data row4 col1\" >61.7%</td>\n",
       "    </tr>\n",
       "    <tr>\n",
       "      <th id=\"T_0f85c_level0_row5\" class=\"row_heading level0 row5\" >5</th>\n",
       "      <td id=\"T_0f85c_row5_col0\" class=\"data row5 col0\" >Preprocess</td>\n",
       "      <td id=\"T_0f85c_row5_col1\" class=\"data row5 col1\" >True</td>\n",
       "    </tr>\n",
       "    <tr>\n",
       "      <th id=\"T_0f85c_level0_row6\" class=\"row_heading level0 row6\" >6</th>\n",
       "      <td id=\"T_0f85c_row6_col0\" class=\"data row6 col0\" >Imputation type</td>\n",
       "      <td id=\"T_0f85c_row6_col1\" class=\"data row6 col1\" >simple</td>\n",
       "    </tr>\n",
       "    <tr>\n",
       "      <th id=\"T_0f85c_level0_row7\" class=\"row_heading level0 row7\" >7</th>\n",
       "      <td id=\"T_0f85c_row7_col0\" class=\"data row7 col0\" >Numeric imputation</td>\n",
       "      <td id=\"T_0f85c_row7_col1\" class=\"data row7 col1\" >mean</td>\n",
       "    </tr>\n",
       "    <tr>\n",
       "      <th id=\"T_0f85c_level0_row8\" class=\"row_heading level0 row8\" >8</th>\n",
       "      <td id=\"T_0f85c_row8_col0\" class=\"data row8 col0\" >Categorical imputation</td>\n",
       "      <td id=\"T_0f85c_row8_col1\" class=\"data row8 col1\" >mode</td>\n",
       "    </tr>\n",
       "    <tr>\n",
       "      <th id=\"T_0f85c_level0_row9\" class=\"row_heading level0 row9\" >9</th>\n",
       "      <td id=\"T_0f85c_row9_col0\" class=\"data row9 col0\" >CPU Jobs</td>\n",
       "      <td id=\"T_0f85c_row9_col1\" class=\"data row9 col1\" >-1</td>\n",
       "    </tr>\n",
       "    <tr>\n",
       "      <th id=\"T_0f85c_level0_row10\" class=\"row_heading level0 row10\" >10</th>\n",
       "      <td id=\"T_0f85c_row10_col0\" class=\"data row10 col0\" >Use GPU</td>\n",
       "      <td id=\"T_0f85c_row10_col1\" class=\"data row10 col1\" >False</td>\n",
       "    </tr>\n",
       "    <tr>\n",
       "      <th id=\"T_0f85c_level0_row11\" class=\"row_heading level0 row11\" >11</th>\n",
       "      <td id=\"T_0f85c_row11_col0\" class=\"data row11 col0\" >Log Experiment</td>\n",
       "      <td id=\"T_0f85c_row11_col1\" class=\"data row11 col1\" >False</td>\n",
       "    </tr>\n",
       "    <tr>\n",
       "      <th id=\"T_0f85c_level0_row12\" class=\"row_heading level0 row12\" >12</th>\n",
       "      <td id=\"T_0f85c_row12_col0\" class=\"data row12 col0\" >Experiment Name</td>\n",
       "      <td id=\"T_0f85c_row12_col1\" class=\"data row12 col1\" >anomaly-default-name</td>\n",
       "    </tr>\n",
       "    <tr>\n",
       "      <th id=\"T_0f85c_level0_row13\" class=\"row_heading level0 row13\" >13</th>\n",
       "      <td id=\"T_0f85c_row13_col0\" class=\"data row13 col0\" >USI</td>\n",
       "      <td id=\"T_0f85c_row13_col1\" class=\"data row13 col1\" >b52e</td>\n",
       "    </tr>\n",
       "  </tbody>\n",
       "</table>\n"
      ],
      "text/plain": [
       "<pandas.io.formats.style.Styler at 0x25dbda7aed0>"
      ]
     },
     "metadata": {},
     "output_type": "display_data"
    },
    {
     "data": {
      "text/html": [],
      "text/plain": [
       "<IPython.core.display.HTML object>"
      ]
     },
     "metadata": {},
     "output_type": "display_data"
    },
    {
     "data": {
      "text/html": [],
      "text/plain": [
       "<IPython.core.display.HTML object>"
      ]
     },
     "metadata": {},
     "output_type": "display_data"
    },
    {
     "data": {
      "text/html": [],
      "text/plain": [
       "<IPython.core.display.HTML object>"
      ]
     },
     "metadata": {},
     "output_type": "display_data"
    },
    {
     "name": "stdout",
     "output_type": "stream",
     "text": [
      "\n",
      "Jumlah data awal: 300\n",
      "Jumlah data setelah outlier dihapus: 15\n"
     ]
    },
    {
     "data": {
      "text/html": [
       "<div>\n",
       "<style scoped>\n",
       "    .dataframe tbody tr th:only-of-type {\n",
       "        vertical-align: middle;\n",
       "    }\n",
       "\n",
       "    .dataframe tbody tr th {\n",
       "        vertical-align: top;\n",
       "    }\n",
       "\n",
       "    .dataframe thead th {\n",
       "        text-align: right;\n",
       "    }\n",
       "</style>\n",
       "<table border=\"1\" class=\"dataframe\">\n",
       "  <thead>\n",
       "    <tr style=\"text-align: right;\">\n",
       "      <th></th>\n",
       "      <th>id</th>\n",
       "      <th>petal length_x</th>\n",
       "      <th>petal width_x</th>\n",
       "      <th>sepal length_y</th>\n",
       "      <th>sepal width_y</th>\n",
       "      <th>petal length_y</th>\n",
       "      <th>petal width_y</th>\n",
       "      <th>Anomaly</th>\n",
       "      <th>Anomaly_Score</th>\n",
       "    </tr>\n",
       "  </thead>\n",
       "  <tbody>\n",
       "    <tr>\n",
       "      <th>71</th>\n",
       "      <td>71</td>\n",
       "      <td>4.8</td>\n",
       "      <td>1.8</td>\n",
       "      <td>5.9</td>\n",
       "      <td>3.2</td>\n",
       "      <td>4.8</td>\n",
       "      <td>1.8</td>\n",
       "      <td>1</td>\n",
       "      <td>-0.005639</td>\n",
       "    </tr>\n",
       "    <tr>\n",
       "      <th>130</th>\n",
       "      <td>101</td>\n",
       "      <td>6.0</td>\n",
       "      <td>2.5</td>\n",
       "      <td>6.3</td>\n",
       "      <td>3.3</td>\n",
       "      <td>NaN</td>\n",
       "      <td>NaN</td>\n",
       "      <td>1</td>\n",
       "      <td>-0.005653</td>\n",
       "    </tr>\n",
       "    <tr>\n",
       "      <th>131</th>\n",
       "      <td>101</td>\n",
       "      <td>6.0</td>\n",
       "      <td>2.5</td>\n",
       "      <td>6.3</td>\n",
       "      <td>3.3</td>\n",
       "      <td>6.0</td>\n",
       "      <td>2.5</td>\n",
       "      <td>1</td>\n",
       "      <td>-0.001771</td>\n",
       "    </tr>\n",
       "    <tr>\n",
       "      <th>142</th>\n",
       "      <td>107</td>\n",
       "      <td>4.5</td>\n",
       "      <td>1.7</td>\n",
       "      <td>4.9</td>\n",
       "      <td>2.5</td>\n",
       "      <td>NaN</td>\n",
       "      <td>NaN</td>\n",
       "      <td>1</td>\n",
       "      <td>-0.001474</td>\n",
       "    </tr>\n",
       "    <tr>\n",
       "      <th>164</th>\n",
       "      <td>118</td>\n",
       "      <td>6.7</td>\n",
       "      <td>2.2</td>\n",
       "      <td>7.7</td>\n",
       "      <td>3.8</td>\n",
       "      <td>NaN</td>\n",
       "      <td>NaN</td>\n",
       "      <td>1</td>\n",
       "      <td>-0.004842</td>\n",
       "    </tr>\n",
       "  </tbody>\n",
       "</table>\n",
       "</div>"
      ],
      "text/plain": [
       "      id  petal length_x  petal width_x  sepal length_y  sepal width_y  \\\n",
       "71    71             4.8            1.8             5.9            3.2   \n",
       "130  101             6.0            2.5             6.3            3.3   \n",
       "131  101             6.0            2.5             6.3            3.3   \n",
       "142  107             4.5            1.7             4.9            2.5   \n",
       "164  118             6.7            2.2             7.7            3.8   \n",
       "\n",
       "     petal length_y  petal width_y  Anomaly  Anomaly_Score  \n",
       "71              4.8            1.8        1      -0.005639  \n",
       "130             NaN            NaN        1      -0.005653  \n",
       "131             6.0            2.5        1      -0.001771  \n",
       "142             NaN            NaN        1      -0.001474  \n",
       "164             NaN            NaN        1      -0.004842  "
      ]
     },
     "execution_count": 24,
     "metadata": {},
     "output_type": "execute_result"
    }
   ],
   "source": [
    "import pandas as pd\n",
    "from pycaret.anomaly import *\n",
    "\n",
    "# === 1. Pastikan dataset sudah ada ===\n",
    "print(\"Jumlah baris:\", data_train.shape[0])\n",
    "print(\"Jumlah kolom:\", data_train.shape[1])\n",
    "print(\"Kolom dataset:\", list(data_train.columns))\n",
    "print(data_train.head())\n",
    "\n",
    "# === 2. Pilih hanya kolom numerik (biar PyCaret tidak error) ===\n",
    "fitur = data_train.select_dtypes(include=['int64', 'float64'])\n",
    "print(\"\\nKolom numerik yang dipakai untuk anomaly detection:\", list(fitur.columns))\n",
    "\n",
    "# === 3. Setup PyCaret Anomaly Detection (versi terbaru) ===\n",
    "from pycaret.anomaly import setup, create_model, assign_model\n",
    "exp_ano = setup(\n",
    "    data=fitur,\n",
    "    session_id=42\n",
    ")\n",
    "\n",
    "# === 4. Buat model ABOD ===\n",
    "abod_model = create_model('abod')\n",
    "\n",
    "# === 5. Assign label anomaly ===\n",
    "dataset_outliers = assign_model(abod_model)\n",
    "\n",
    "# === 6. Hapus baris outlier (Anomaly == 1 artinya normal, -1 artinya outlier) ===\n",
    "dataset_clean = dataset_outliers[dataset_outliers['Anomaly'] == 1]\n",
    "\n",
    "print(\"\\nJumlah data awal:\", len(dataset_outliers))\n",
    "print(\"Jumlah data setelah outlier dihapus:\", len(dataset_clean))\n",
    "dataset_clean.head()\n"
   ]
  },
  {
   "cell_type": "markdown",
   "id": "0ed4dcfb",
   "metadata": {},
   "source": [
    "### Menghapus data dengan skor outlier tertinggi"
   ]
  },
  {
   "cell_type": "code",
   "execution_count": 25,
   "id": "5259b697",
   "metadata": {},
   "outputs": [
    {
     "name": "stdout",
     "output_type": "stream",
     "text": [
      "Data setelah 2 outlier tertinggi dihapus:\n",
      "   id  petal length_x  petal width_x  sepal length_y  sepal width_y  \\\n",
      "0  36             1.2            0.2             5.0            3.2   \n",
      "1  36             1.2            0.2             5.0            3.2   \n",
      "2  37             1.3            0.2             5.5            3.5   \n",
      "3  37             1.3            0.2             5.5            3.5   \n",
      "4  38             1.5            0.1             4.9            3.1   \n",
      "\n",
      "   petal length_y  petal width_y  Anomaly  Anomaly_Score  \n",
      "0             NaN            NaN        0      -0.011465  \n",
      "1             1.2            0.2        0      -0.010103  \n",
      "2             NaN            NaN        0      -0.025892  \n",
      "3             1.3            0.2        0      -0.024060  \n",
      "4             NaN            NaN        0      -0.082164  \n"
     ]
    }
   ],
   "source": [
    "# Urutkan dataset_outliers berdasarkan skor outlier (descending)\n",
    "outliers_sorted = dataset_outliers.sort_values(by=\"Anomaly_Score\", ascending=False)\n",
    "\n",
    "# Ambil index 2 skor outlier tertinggi\n",
    "top2_outliers_index = outliers_sorted.head(2).index\n",
    "\n",
    "# Hapus 2 data tersebut dari dataset_outliers\n",
    "dataset_clean_top2 = dataset_outliers.drop(index=top2_outliers_index)\n",
    "\n",
    "print(\"Data setelah 2 outlier tertinggi dihapus:\")\n",
    "print(dataset_clean_top2.head())\n"
   ]
  }
 ],
 "metadata": {
  "kernelspec": {
   "display_name": "Python 3",
   "language": "python",
   "name": "python3"
  },
  "language_info": {
   "codemirror_mode": {
    "name": "ipython",
    "version": 3
   },
   "file_extension": ".py",
   "mimetype": "text/x-python",
   "name": "python",
   "nbconvert_exporter": "python",
   "pygments_lexer": "ipython3",
   "version": "3.11.9"
  }
 },
 "nbformat": 4,
 "nbformat_minor": 5
}
