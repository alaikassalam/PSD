{
 "cells": [
  {
   "cell_type": "markdown",
   "id": "e7b61304",
   "metadata": {},
   "source": [
    "# Analisa Data & Klasifikasi Tools Knime"
   ]
  },
  {
   "cell_type": "markdown",
   "id": "73dac9c2",
   "metadata": {},
   "source": [
    "## Persiapan yang Harus Dilakukan "
   ]
  },
  {
   "cell_type": "markdown",
   "id": "46af59a0",
   "metadata": {},
   "source": [
    "### Install tools yang dibutuhkan \n",
    "- Install KNIME Analytics Platform  \n",
    "- Download dan pasang driver PostgreSQL (JDBC)  \n",
    "- Pastikan sudah terinstall JDK (Java Development Kit)\n",
    "- Pastikan Python sudah terinstall (Conda/Miniforge) minimal \n"
   ]
  },
  {
   "cell_type": "markdown",
   "id": "0ab905b4",
   "metadata": {},
   "source": [
    "### Settingan Knime\n",
    "#### Langkah 1 - Buka KNIME\n",
    "- Jalankan aplikasi KNIME\n",
    "- Saat pertama kali terbuka, KNIME akan minta kamu memilih workspace folder → ini adalah tempat semua proyek disimpan\n",
    "![tampilanKnime](./images/Tampilan-Kname.png)\n",
    "- Saat pertama kali terbuka, KNIME akan minta kamu memilih workspace folder → ini adalah tempat semua proyek disimpan  \n",
    "\n",
    "#### Langkah 2 - Cek instalasi Java\n",
    "- Buka menu: File → Preferences → KNIME → Java\n",
    "- Pastikan terdeteksi versi JDK 11 atau 17\n",
    "![tampilanMiniforge1](./images/cmd2.png)\n",
    "![tampilanMiniforge2](./images/cmd3.png)\n",
    "\n",
    "#### Langkah 3 - Tambahkan Driver PostgreSQL\n",
    "Agar KNIME bisa terhubung ke database PostgreSQL\n",
    "- Unduh driver JDBC (file bernama seperti postgresql-42.7.1.jar).\n",
    "- Di KNIME, buka: File → Preferences → KNIME → Databases → Drivers\n",
    "- Klik Add File… lalu pilih file postgresql-42.7.1.jar tadi. Klik Apply and Close.\n",
    "![driverPostgreSQL](./images/driverPostgreSQL.png)\n",
    "\n",
    "#### Langkah 4 - Konfigurasi Python Environment di KNIME\n",
    "Agar node “Python Script” bisa dijalankan.  \n",
    "- Buka: File → Preferences → KNIME → Python\n",
    "- Pilih Manual Configuration, Di bagian Python 3, arahkan ke environment conda kamu:\n",
    "- Klik Apply and Close, Restart KNIME (disarankan).\n",
    "![Environment](./images/Environment.png)\n",
    "\n",
    "#### Langkah 5 - Tes Node Python\n",
    "- Di KNIME, cari node yang dibutuhkan, Tarik ke canvas dan buka node.\n",
    "![tesKoneksi](./images/tesKoneksi.png)"
   ]
  }
 ],
 "metadata": {
  "language_info": {
   "codemirror_mode": {
    "name": "ipython",
    "version": 3
   },
   "file_extension": ".py",
   "mimetype": "text/x-python",
   "name": "python",
   "nbconvert_exporter": "python",
   "pygments_lexer": "ipython3",
   "version": "3.10.6"
  }
 },
 "nbformat": 4,
 "nbformat_minor": 5
}