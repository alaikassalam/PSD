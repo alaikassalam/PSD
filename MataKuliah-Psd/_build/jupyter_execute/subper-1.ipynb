{
 "cells": [
  {
   "cell_type": "markdown",
   "id": "78943f3b",
   "metadata": {},
   "source": [
    "## subbab"
   ]
  },
  {
   "cell_type": "code",
   "execution_count": 1,
   "id": "39fcdbfb",
   "metadata": {
    "vscode": {
     "languageId": "plaintext"
    }
   },
   "outputs": [
    {
     "ename": "NameError",
     "evalue": "name 'yareeeuuuu' is not defined",
     "output_type": "error",
     "traceback": [
      "\u001b[1;31m---------------------------------------------------------------------------\u001b[0m",
      "\u001b[1;31mNameError\u001b[0m                                 Traceback (most recent call last)",
      "Cell \u001b[1;32mIn[1], line 1\u001b[0m\n\u001b[1;32m----> 1\u001b[0m \u001b[43myareeeuuuu\u001b[49m\n",
      "\u001b[1;31mNameError\u001b[0m: name 'yareeeuuuu' is not defined"
     ]
    }
   ],
   "source": [
    "yareeeuuuu"
   ]
  }
 ],
 "metadata": {
  "language_info": {
   "codemirror_mode": {
    "name": "ipython",
    "version": 3
   },
   "file_extension": ".py",
   "mimetype": "text/x-python",
   "name": "python",
   "nbconvert_exporter": "python",
   "pygments_lexer": "ipython3",
   "version": "3.10.6"
  }
 },
 "nbformat": 4,
 "nbformat_minor": 5
}