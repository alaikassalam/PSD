{
 "cells": [
  {
   "cell_type": "markdown",
   "id": "c0786965",
   "metadata": {},
   "source": [
    "# KNN & K-means"
   ]
  },
  {
   "cell_type": "markdown",
   "id": "e8cf4783",
   "metadata": {},
   "source": [
    "## Menggabungkan Data Dari dua sumber \n"
   ]
  },
  {
   "cell_type": "markdown",
   "id": "b9ffb6b2",
   "metadata": {},
   "source": [
    "## Menemukan outlier menggunakan K-NN -iris\n"
   ]
  },
  {
   "cell_type": "markdown",
   "id": "6c7637a7",
   "metadata": {},
   "source": [
    "## Melakukan clustering dengan K-mean –iris\n"
   ]
  }
 ],
 "metadata": {
  "language_info": {
   "codemirror_mode": {
    "name": "ipython",
    "version": 3
   },
   "file_extension": ".py",
   "mimetype": "text/x-python",
   "name": "python",
   "nbconvert_exporter": "python",
   "pygments_lexer": "ipython3",
   "version": "3.10.6"
  }
 },
 "nbformat": 4,
 "nbformat_minor": 5
}