{
 "cells": [
  {
   "cell_type": "markdown",
   "id": "c8dbab50",
   "metadata": {},
   "source": [
    "# Data Understanding "
   ]
  },
  {
   "cell_type": "markdown",
   "id": "b9689a62",
   "metadata": {},
   "source": [
    "## Pengertian\n",
    "Data Understanding adalah tahap kedua dalam proses sains data setelah memahami bisnis. Tahap ini berfokus pada pengumpulan, eksplorasi, dan analisis awal data untuk mengetahui kualitas, struktur, dan potensi data yang tersedia. Dengan kata lain, pada tahap ini kita mulai “berkenalan” dengan data untuk memastikan apakah data tersebut sesuai dengan kebutuhan analisis."
   ]
  },
  {
   "cell_type": "markdown",
   "id": "42e6dbc5",
   "metadata": {},
   "source": [
    "## Tujuan\n",
    "* Mengumpulkan data yang relevan dengan masalah bisnis.\n",
    "\n",
    "* Memahami karakteristik data, seperti jumlah, format, dan tipe variabel.\n",
    "\n",
    "* Mengevaluasi kualitas data, termasuk missing value, outlier, dan inkonsistensi.\n",
    "\n",
    "* Mengidentifikasi pola awal atau insight sederhana dari data.\n",
    "\n",
    "* Menentukan kebutuhan tambahan jika data yang ada belum cukup."
   ]
  },
  {
   "cell_type": "markdown",
   "id": "d0183066",
   "metadata": {},
   "source": [
    "## Langkah-Langkah\n",
    "1. Pengumpulan Data (Data Collection)  \n",
    "Mengumpulkan data dari berbagai sumber, misalnya database perusahaan, API, survey, atau file CSV/Excel.\n",
    "\n",
    "2. Deskripsi Data (Data Description)  \n",
    "Mendeskripsikan data dengan melihat jumlah record, variabel, tipe data, serta ringkasan statistik (mean, median, minimum, maksimum, dsb).\n",
    "\n",
    "3. Eksplorasi Data (Data Exploration)  \n",
    "Melakukan eksplorasi awal untuk mencari pola, tren, atau hubungan antar variabel, biasanya dengan tabel, grafik, atau visualisasi.\n",
    "\n",
    "4. Evaluasi Kualitas Data (Data Quality Verification)  \n",
    "Mengecek apakah data memiliki error, missing value, duplikasi, atau data yang tidak relevan, serta menilai kelayakan data untuk analisis lebih lanjut."
   ]
  },
  {
   "cell_type": "markdown",
   "id": "a8a31bda",
   "metadata": {},
   "source": [
    "## Contoh Kasus\n",
    "Dalam proyek e-commerce yang ingin meningkatkan penjualan, data transaksi pelanggan dikumpulkan dari database. Setelah dicek, dataset berisi 50.000 transaksi dengan variabel seperti ID pelanggan, tanggal pembelian, jumlah belanja, kategori produk, dan metode pembayaran. Pada tahap eksplorasi ditemukan bahwa ada 5% data yang memiliki nilai kosong pada kolom metode pembayaran, dan terdapat outlier pada kolom jumlah belanja (pembelian bernilai sangat tinggi). Dari insight awal, terlihat bahwa kategori “fashion” adalah produk yang paling banyak dibeli."
   ]
  },
  {
   "cell_type": "markdown",
   "id": "b611ac4f",
   "metadata": {},
   "source": [
    "## Kesimpulan\n",
    "Tahap Data Understanding membantu data scientist memahami kondisi data yang tersedia sebelum masuk ke tahap Data Preparation. Dengan melakukan pengumpulan, deskripsi, eksplorasi, dan evaluasi kualitas data, kita dapat memastikan bahwa data siap digunakan untuk membangun model yang sesuai dengan tujuan bisnis."
   ]
  }
 ],
 "metadata": {
  "language_info": {
   "codemirror_mode": {
    "name": "ipython",
    "version": 3
   },
   "file_extension": ".py",
   "mimetype": "text/x-python",
   "name": "python",
   "nbconvert_exporter": "python",
   "pygments_lexer": "ipython3",
   "version": "3.10.6"
  }
 },
 "nbformat": 4,
 "nbformat_minor": 5
}