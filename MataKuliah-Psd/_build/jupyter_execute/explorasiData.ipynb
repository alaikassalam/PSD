{
 "cells": [
  {
   "cell_type": "markdown",
   "id": "a9b88c69",
   "metadata": {},
   "source": [
    "# Explorasi Data"
   ]
  },
  {
   "cell_type": "markdown",
   "id": "e9996a3b",
   "metadata": {},
   "source": [
    "## Pengertian\n",
    "Explorasi Data adalah tahap dalam proyek sains data yang berfokus pada analisis mendalam terhadap dataset untuk menemukan pola, tren, hubungan antar variabel, dan anomali. Tahap ini sering disebut juga sebagai Exploratory Data Analysis (EDA), yaitu proses untuk “menceritakan kisah” yang ada di balik data melalui analisis statistik dan visualisasi."
   ]
  },
  {
   "cell_type": "markdown",
   "id": "8a8ceeee",
   "metadata": {},
   "source": [
    "## Tujuan\n",
    "* Memahami distribusi data dan karakteristik variabel.\n",
    "\n",
    "* Mengidentifikasi pola, tren, dan hubungan antar variabel.\n",
    "\n",
    "* Menemukan outlier atau nilai ekstrem yang perlu ditangani.\n",
    "\n",
    "* Menguji hipotesis awal yang berkaitan dengan tujuan bisnis.\n",
    "\n",
    "* Memberikan insight awal yang bisa menjadi dasar pemodelan."
   ]
  },
  {
   "cell_type": "markdown",
   "id": "eebe40cc",
   "metadata": {},
   "source": [
    "## Langkah-Langkah\n",
    "1. Analisis Statistik Deskriptif  \n",
    "Menghitung ukuran pemusatan (mean, median, modus) dan ukuran penyebaran (range, varians, standar deviasi).\n",
    "\n",
    "2. Visualisasi Distribusi Data  \n",
    "Menggunakan histogram, boxplot, atau density plot untuk melihat distribusi variabel numerik.\n",
    "\n",
    "3. Analisis Korelasi  \n",
    "Menggunakan scatter plot, heatmap, atau matriks korelasi untuk melihat hubungan antar variabel.\n",
    "\n",
    "4. Identifikasi Outlier & Anomali  \n",
    "Mendeteksi nilai yang tidak wajar yang bisa memengaruhi analisis.\n",
    "\n",
    "5. Segmentasi atau Clustering Awal  \n",
    "Jika relevan, dilakukan segmentasi untuk mengenali kelompok dalam data."
   ]
  },
  {
   "cell_type": "markdown",
   "id": "f354761c",
   "metadata": {},
   "source": [
    "## Contoh Kasus\n",
    "Pada proyek e-commerce, setelah data transaksi dikumpulkan, dilakukan analisis eksplorasi. Dari histogram terlihat bahwa mayoritas pelanggan melakukan pembelian di bawah Rp 500.000, tetapi ada beberapa transaksi dengan nilai lebih dari Rp 10.000.000 yang terindikasi sebagai outlier. Analisis korelasi menunjukkan bahwa jumlah produk yang dibeli berkorelasi positif dengan total belanja. Visualisasi kategori produk menunjukkan bahwa “fashion” dan “elektronik” adalah dua kategori yang paling banyak mendominasi penjualan. Insight ini dapat membantu tim bisnis menentukan fokus strategi promosi."
   ]
  },
  {
   "cell_type": "markdown",
   "id": "589ff2b1",
   "metadata": {},
   "source": [
    "## Explorasi Data POWER BI"
   ]
  },
  {
   "cell_type": "markdown",
   "id": "de95b642",
   "metadata": {},
   "source": [
    "### Tipe Data Dataset\n",
    "Pertama tentukan terlebih dahulu tipe data dari setiap kolom yang ada pada dataset, cara tinggal pilih menu Transform data \n",
    "![image1](./asset/image1.png)"
   ]
  },
  {
   "cell_type": "markdown",
   "id": "e7868a9a",
   "metadata": {},
   "source": [
    "### Kualitas Data\n",
    "#### Melihat Outlier  \n",
    "Untuk melihar Outlier disini saya menggunakan kode python, yang nantinya hasilnya seperti berikut  \n",
    "![image3](./asset/image3.png)"
   ]
  },
  {
   "cell_type": "markdown",
   "id": "58f59ec9",
   "metadata": {},
   "source": [
    "#### Konsistensi Data  \n",
    "Selanjutnya untuk melihat Konsistensi data itu bisa dilakukan di bagian menu view dan jangan ceklis 3 bagian penting  \n",
    "* Column quality\n",
    "* Column distribution \n",
    "* Column profile \n",
    " \n",
    "Untuk hasilnya seperti pada gambar berikut:  \n",
    "![image1](./asset/image2.png)"
   ]
  },
  {
   "cell_type": "markdown",
   "id": "2ed6da31",
   "metadata": {},
   "source": [
    "## Source Code  \n",
    "Berikut untuk Source codenya"
   ]
  },
  {
   "cell_type": "markdown",
   "id": "32b0a450",
   "metadata": {},
   "source": [
    "### Import library yang dibutuhkan "
   ]
  },
  {
   "cell_type": "code",
   "execution_count": 1,
   "id": "4aa55b46",
   "metadata": {},
   "outputs": [
    {
     "name": "stderr",
     "output_type": "stream",
     "text": [
      "\n",
      "KeyboardInterrupt\n",
      "\n"
     ]
    }
   ],
   "source": [
    "# Library sesuai dengan kebutuhan\n",
    "import pandas as pd\n",
    "import psycopg2\n",
    "from psycopg2 import sql\n",
    "import numpy as np\n",
    "from scipy import stats\n",
    "import matplotlib.pyplot as plt\n",
    "import os\n",
    "from dotenv import load_dotenv\n",
    "from sqlalchemy import create_engine"
   ]
  },
  {
   "cell_type": "markdown",
   "id": "aa0630f4",
   "metadata": {},
   "source": [
    "### Load dataset"
   ]
  },
  {
   "cell_type": "code",
   "execution_count": 6,
   "id": "cd88edd9",
   "metadata": {},
   "outputs": [],
   "source": [
    "load_dotenv()\n",
    "\n",
    "# Ambil variabel dari .env\n",
    "user_postgres = os.getenv(\"USER_POSTGRES\")\n",
    "password_postgres = os.getenv(\"PASS_POSTGRES\")\n",
    "host_postgres = os.getenv(\"HOST_POSTGRES\")\n",
    "port_postgres = os.getenv(\"PORT_POSTGRES\")\n",
    "db_postgres = os.getenv(\"DB_POSTGRES\")\n",
    "\n",
    "user_mysql = os.getenv(\"USER_MYSQL\")\n",
    "password_mysql = os.getenv(\"PASS_MYSQL\")\n",
    "host_mysql = os.getenv(\"HOST_MYSQL\")\n",
    "port_mysql = os.getenv(\"PORT_MYSQL\")\n",
    "db_mysql = os.getenv(\"DB_MYSQL\")\n",
    "\n",
    "\n",
    "postgres_conn = f\"postgresql+psycopg2://{user_postgres}:{password_postgres}@{host_postgres}:{port_postgres}/{db_postgres}\"\n",
    "\n",
    "mysql_conn = f\"mysql+pymysql://{user_mysql}:{password_mysql}@{host_mysql}:{port_mysql}/{db_mysql}\"\n",
    "\n",
    "postgres_engine = create_engine(postgres_conn)\n",
    "postgres_engine = create_engine(mysql_conn)"
   ]
  },
  {
   "cell_type": "markdown",
   "id": "416e336a",
   "metadata": {},
   "source": [
    "### Membuat koneksi (engine) dan mengambil dari database"
   ]
  },
  {
   "cell_type": "code",
   "execution_count": 7,
   "id": "36bd4a91",
   "metadata": {},
   "outputs": [],
   "source": [
    "# Engine untuk PostgreSQL\n",
    "postgres_engine = create_engine(postgres_conn)\n",
    "\n",
    "# Engine untuk MySQL\n",
    "mysql_engine = create_engine(mysql_conn)\n",
    "\n",
    "\n",
    "# Ambil data dari MySQL\n",
    "mysql_df_iris = pd.read_sql(\"SELECT * FROM iris_full\", mysql_engine)\n",
    "\n",
    "# Ambil data dari PostgreSQL\n",
    "postgres_df_iris = pd.read_sql(\"SELECT * FROM iris_full\", postgres_engine)\n"
   ]
  }
 ],
 "metadata": {
  "kernelspec": {
   "display_name": "Python 3",
   "language": "python",
   "name": "python3"
  },
  "language_info": {
   "codemirror_mode": {
    "name": "ipython",
    "version": 3
   },
   "file_extension": ".py",
   "mimetype": "text/x-python",
   "name": "python",
   "nbconvert_exporter": "python",
   "pygments_lexer": "ipython3",
   "version": "3.10.6"
  }
 },
 "nbformat": 4,
 "nbformat_minor": 5
}