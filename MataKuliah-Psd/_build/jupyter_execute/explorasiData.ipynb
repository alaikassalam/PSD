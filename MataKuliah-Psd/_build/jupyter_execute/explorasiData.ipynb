{
 "cells": [
  {
   "cell_type": "markdown",
   "id": "a9b88c69",
   "metadata": {},
   "source": [
    "# Explorasi Data"
   ]
  },
  {
   "cell_type": "markdown",
   "id": "e9996a3b",
   "metadata": {},
   "source": [
    "## Pengertian\n",
    "Explorasi Data adalah tahap dalam proyek sains data yang berfokus pada analisis mendalam terhadap dataset untuk menemukan pola, tren, hubungan antar variabel, dan anomali. Tahap ini sering disebut juga sebagai Exploratory Data Analysis (EDA), yaitu proses untuk “menceritakan kisah” yang ada di balik data melalui analisis statistik dan visualisasi."
   ]
  },
  {
   "cell_type": "markdown",
   "id": "8a8ceeee",
   "metadata": {},
   "source": [
    "## Tujuan\n",
    "* Memahami distribusi data dan karakteristik variabel.\n",
    "\n",
    "* Mengidentifikasi pola, tren, dan hubungan antar variabel.\n",
    "\n",
    "* Menemukan outlier atau nilai ekstrem yang perlu ditangani.\n",
    "\n",
    "* Menguji hipotesis awal yang berkaitan dengan tujuan bisnis.\n",
    "\n",
    "* Memberikan insight awal yang bisa menjadi dasar pemodelan."
   ]
  },
  {
   "cell_type": "markdown",
   "id": "eebe40cc",
   "metadata": {},
   "source": [
    "## Langkah-Langkah\n",
    "1. Analisis Statistik Deskriptif  \n",
    "Menghitung ukuran pemusatan (mean, median, modus) dan ukuran penyebaran (range, varians, standar deviasi).\n",
    "\n",
    "2. Visualisasi Distribusi Data  \n",
    "Menggunakan histogram, boxplot, atau density plot untuk melihat distribusi variabel numerik.\n",
    "\n",
    "3. Analisis Korelasi  \n",
    "Menggunakan scatter plot, heatmap, atau matriks korelasi untuk melihat hubungan antar variabel.\n",
    "\n",
    "4. Identifikasi Outlier & Anomali  \n",
    "Mendeteksi nilai yang tidak wajar yang bisa memengaruhi analisis.\n",
    "\n",
    "5. Segmentasi atau Clustering Awal  \n",
    "Jika relevan, dilakukan segmentasi untuk mengenali kelompok dalam data."
   ]
  },
  {
   "cell_type": "markdown",
   "id": "f354761c",
   "metadata": {},
   "source": [
    "## Contoh Kasus\n",
    "Pada proyek e-commerce, setelah data transaksi dikumpulkan, dilakukan analisis eksplorasi. Dari histogram terlihat bahwa mayoritas pelanggan melakukan pembelian di bawah Rp 500.000, tetapi ada beberapa transaksi dengan nilai lebih dari Rp 10.000.000 yang terindikasi sebagai outlier. Analisis korelasi menunjukkan bahwa jumlah produk yang dibeli berkorelasi positif dengan total belanja. Visualisasi kategori produk menunjukkan bahwa “fashion” dan “elektronik” adalah dua kategori yang paling banyak mendominasi penjualan. Insight ini dapat membantu tim bisnis menentukan fokus strategi promosi."
   ]
  },
  {
   "cell_type": "markdown",
   "id": "589ff2b1",
   "metadata": {},
   "source": [
    "## Explorasi Data POWER BI"
   ]
  },
  {
   "cell_type": "markdown",
   "id": "de95b642",
   "metadata": {},
   "source": [
    "### Tipe Data Dataset\n",
    "Pertama tentukan terlebih dahulu tipe data dari setiap kolom yang ada pada dataset, cara tinggal pilih menu Transform data \n",
    "![image1](./asset/image1.png)"
   ]
  },
  {
   "cell_type": "markdown",
   "id": "e7868a9a",
   "metadata": {},
   "source": [
    "### Kualitas Data\n",
    "#### Melihat Outlier  \n",
    "Untuk melihar Outlier disini saya menggunakan kode python, yang nantinya hasilnya seperti berikut  \n",
    "![image1](./asset/image3.jpg)"
   ]
  },
  {
   "cell_type": "markdown",
   "id": "58f59ec9",
   "metadata": {},
   "source": [
    "#### Konsistensi Data  \n",
    "Selanjutnya untuk melihat Konsistensi data itu bisa dilakukan di bagian menu view dan jangan ceklis 3 bagian penting  \n",
    "* Column quality\n",
    "* Column distribution \n",
    "* Column profile \n",
    " \n",
    "Untuk hasilnya seperti pada gambar berikut:  \n",
    "![image1](./asset/image2.png)"
   ]
  }
 ],
 "metadata": {
  "language_info": {
   "codemirror_mode": {
    "name": "ipython",
    "version": 3
   },
   "file_extension": ".py",
   "mimetype": "text/x-python",
   "name": "python",
   "nbconvert_exporter": "python",
   "pygments_lexer": "ipython3",
   "version": "3.10.6"
  }
 },
 "nbformat": 4,
 "nbformat_minor": 5
}