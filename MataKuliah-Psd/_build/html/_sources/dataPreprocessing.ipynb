{
 "cells": [
  {
   "cell_type": "markdown",
   "id": "53c1f5e5",
   "metadata": {},
   "source": [
    "# Data Preprocessing"
   ]
  },
  {
   "cell_type": "markdown",
   "id": "7e966d39",
   "metadata": {},
   "source": [
    "## Pengertian\n",
    "Data Preprocessing adalah proses mengubah data mentah ke dalam bentuk yang lebih mudah dipahami. Proses ini diperlukan untuk memperbaiki kesalahan pada data mentah yang seringkali tidak lengkap dan memiliki format yang tidak teratur."
   ]
  },
  {
   "cell_type": "markdown",
   "id": "29fc8f5d",
   "metadata": {},
   "source": [
    "## Tujuan  \n",
    "* Meningkatkan Kualitas Data  \n",
    "* Membuat Data Lebih Konsisten & Seragam  \n",
    "* Mempermudah Analisis & Pemodelan  \n",
    "* Meningkatkan Akurasi Model  \n",
    "* Menghemat Waktu & Sumber Daya  "
   ]
  },
  {
   "cell_type": "markdown",
   "id": "ef0f0578",
   "metadata": {},
   "source": [
    "## Langkah-langkah  \n",
    "* Data Cleaning (Pembersihan Data)  \n",
    "* Data Integration (Integrasi Data)  \n",
    "* Data Transformation (Transformasi Data)  \n",
    "* Data Reduction (Reduksi Data)  \n",
    "* Data Discretization (Diskretisasi)"
   ]
  },
  {
   "cell_type": "markdown",
   "id": "00a4d5f6",
   "metadata": {},
   "source": [
    "## Kesimpulan  \n",
    "Kesimpulannya, data preprocessing adalah proses menyiapkan data mentah agar bersih, konsisten, dan siap digunakan. Tahap ini penting untuk meningkatkan kualitas data sehingga analisis maupun model machine learning menjadi lebih akurat dan dapat dipercaya.\n"
   ]
  }
 ],
 "metadata": {
  "language_info": {
   "name": "python"
  }
 },
 "nbformat": 4,
 "nbformat_minor": 5
}
