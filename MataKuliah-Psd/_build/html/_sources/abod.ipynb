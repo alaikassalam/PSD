{
 "cells": [
  {
   "cell_type": "markdown",
   "id": "12dc330c",
   "metadata": {},
   "source": [
    "# Deteksi Outlier ABOD "
   ]
  },
  {
   "cell_type": "markdown",
   "id": "5ba812e5",
   "metadata": {},
   "source": [
    "## Angle-Based Outlier Detection (ABOD)  \n",
    "Angle-Based Outlier Detection (ABOD) adalah pendekatan geometris untuk mengidentifikasi outlier dalam data berdimensi tinggi dengan menganalisis varians sudut yang dibentuk oleh vektor-vektor dari suatu titik ke tetangganya.\n",
    "\n",
    "Dalam satu himpunan data, titik-titik normal cenderung memiliki sudut-sudut yang serupa antara pasangan vektor yang menghubungkannya ke titik lain. Sebaliknya, outlier sering kali terletak di tepi dan membentuk rentang sudut yang sangat luas terhadap tetangganya — artinya, varians sudut mereka tinggi."
   ]
  },
  {
   "cell_type": "markdown",
   "id": "5cb8c073",
   "metadata": {},
   "source": [
    "## Algoritma Angle-Based Outlier Detection (ABOD)\n",
    "\n",
    "1. Untuk setiap titik \\( p_i \\) dalam dataset:\n",
    "   - Hitung semua vektor pasangan dari \\( p_i \\) ke titik lainnya:  \n",
    "     $$\n",
    "     \\vec{v}_{ij} = p_j - p_i\n",
    "     $$\n",
    "   - Untuk setiap pasangan vektor seperti $((\\vec{v}_{ij}, \\vec{v}_{ik})$ , hitung sudut di antara keduanya menggunakan rumus hasil kali titik:  \n",
    "     $$\n",
    "     \\cos(\\theta_{ijk}) = \\frac{\\vec{v}_{ij} \\cdot \\vec{v}_{ik}}{\\|\\vec{v}_{ij}\\| \\cdot \\|\\vec{v}_{ik}\\|}\n",
    "     $$\n",
    "   - Hitung **varians** dari semua sudut tersebut untuk titik \\( p_i \\).\n",
    "\n",
    "\n",
    "2. Skor outlier untuk titik $ p_i $ adalah varians sudut:  \n",
    "   $$\n",
    "   ABOD(p_i) = \\mathrm{Var}(\\theta_{ijk}) \\quad \\text{untuk semua } j, k \\neq i\n",
    "   $$\n",
    "\n",
    "\n",
    "3. Titik-titik dengan **varians sudut tinggi** ditandai sebagai **outlier**.\n"
   ]
  },
  {
   "cell_type": "code",
   "execution_count": null,
   "id": "fed80fa6",
   "metadata": {
    "vscode": {
     "languageId": "plaintext"
    }
   },
   "outputs": [],
   "source": []
  }
 ],
 "metadata": {
  "language_info": {
   "name": "python"
  }
 },
 "nbformat": 4,
 "nbformat_minor": 5
}
