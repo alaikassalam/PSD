{
 "cells": [
  {
   "cell_type": "markdown",
   "id": "78943f3b",
   "metadata": {},
   "source": [
    "## subbab"
   ]
  },
  {
   "cell_type": "code",
   "execution_count": null,
   "id": "39fcdbfb",
   "metadata": {
    "vscode": {
     "languageId": "plaintext"
    }
   },
   "outputs": [],
   "source": [
    "yareeeuuuu"
   ]
  }
 ],
 "metadata": {
  "language_info": {
   "name": "python"
  }
 },
 "nbformat": 4,
 "nbformat_minor": 5
}
